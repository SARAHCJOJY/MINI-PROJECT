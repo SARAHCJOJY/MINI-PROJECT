{
 "cells": [
  {
   "cell_type": "code",
   "execution_count": 2,
   "id": "20a320e3",
   "metadata": {},
   "outputs": [
    {
     "name": "stdout",
     "output_type": "stream",
     "text": [
      "(6335, 4)\n",
      "      id                                              title  \\\n",
      "0   8476                       You Can Smell Hillary’s Fear   \n",
      "1  10294  Watch The Exact Moment Paul Ryan Committed Pol...   \n",
      "2   3608        Kerry to go to Paris in gesture of sympathy   \n",
      "3  10142  Bernie supporters on Twitter erupt in anger ag...   \n",
      "4    875   The Battle of New York: Why This Primary Matters   \n",
      "\n",
      "                                                text label  \n",
      "0  Daniel Greenfield, a Shillman Journalism Fello...  FAKE  \n",
      "1  Google Pinterest Digg Linkedin Reddit Stumbleu...  FAKE  \n",
      "2  U.S. Secretary of State John F. Kerry said Mon...  REAL  \n",
      "3  — Kaydee King (@KaydeeKing) November 9, 2016 T...  FAKE  \n",
      "4  It's primary day in New York and front-runners...  REAL  \n",
      "<class 'pandas.core.frame.DataFrame'>\n",
      "RangeIndex: 6335 entries, 0 to 6334\n",
      "Data columns (total 4 columns):\n",
      " #   Column  Non-Null Count  Dtype \n",
      "---  ------  --------------  ----- \n",
      " 0   id      6335 non-null   int64 \n",
      " 1   title   6335 non-null   object\n",
      " 2   text    6335 non-null   object\n",
      " 3   label   6335 non-null   object\n",
      "dtypes: int64(1), object(3)\n",
      "memory usage: 198.1+ KB\n",
      "None\n",
      "id       0\n",
      "title    0\n",
      "text     0\n",
      "label    0\n",
      "dtype: int64\n",
      "label\n",
      "FAKE    3164\n",
      "REAL    3171\n",
      "Name: text, dtype: int64\n"
     ]
    },
    {
     "data": {
      "image/png": "[encoded data removed]",
      "text/plain": [
       "<Figure size 432x288 with 1 Axes>"
      ]
     },
     "metadata": {
      "needs_background": "light"
     },
     "output_type": "display_data"
    }
   ],
   "source": [
    "import pandas as pd \n",
    "import numpy as np \n",
    "import matplotlib.pyplot as plt\n",
    "import pickle\n",
    "import itertools\n",
    "from sklearn.model_selection import train_test_split\n",
    "from sklearn.feature_extraction.text import TfidfVectorizer\n",
    "from sklearn.linear_model import LogisticRegression\n",
    "from sklearn.ensemble import RandomForestClassifier\n",
    "from sklearn.tree import DecisionTreeClassifier\n",
    "from sklearn.metrics import accuracy_score, confusion_matrix,classification_report\n",
    "\n",
    "\n",
    "df = pd.read_csv('news.csv')\n",
    "df.columns = ['id','title','text','label']\n",
    "print(df.shape)\n",
    "print(df.head())\n",
    "print(df.info())\n",
    "print(df.isnull().sum())\n",
    "\n",
    "#Number of fake(1) and real(0) news\n",
    "print(df.groupby(['label'])['text'].count())\n",
    "df.groupby(['label'])['text'].count().plot(kind=\"bar\")\n",
    "plt.show()\n",
    "\n",
    "x = df[\"text\"]\n",
    "y = df[\"label\"]\n",
    "\n",
    "\n",
    "tfidf_vectorizer = TfidfVectorizer(stop_words='english', max_df=0.7)\n",
    "labels = df.label\n",
    "X_train, X_test, y_train, y_test = train_test_split(df['text'],y,test_size=0.3)\n",
    "\n",
    "tfidf_vectorizer = TfidfVectorizer()\n",
    "\n",
    "# Fit and transform train set, transform test set\n",
    "tfidf_train = tfidf_vectorizer.fit_transform(X_train) \n",
    "tfidf_test  = tfidf_vectorizer.transform(X_test)\n",
    "\n"
   ]
  },
  {
   "cell_type": "code",
   "execution_count": 3,
   "id": "2afd4f23",
   "metadata": {},
   "outputs": [
    {
     "name": "stdout",
     "output_type": "stream",
     "text": [
      "      id                                              title  \\\n",
      "0   8476                       You Can Smell Hillary’s Fear   \n",
      "1  10294  Watch The Exact Moment Paul Ryan Committed Pol...   \n",
      "2   3608        Kerry to go to Paris in gesture of sympathy   \n",
      "3  10142  Bernie supporters on Twitter erupt in anger ag...   \n",
      "4    875   The Battle of New York: Why This Primary Matters   \n",
      "\n",
      "                                                text label  \n",
      "0  Daniel Greenfield, a Shillman Journalism Fello...  FAKE  \n",
      "1  Google Pinterest Digg Linkedin Reddit Stumbleu...  FAKE  \n",
      "2  U.S. Secretary of State John F. Kerry said Mon...  REAL  \n",
      "3  — Kaydee King (@KaydeeKing) November 9, 2016 T...  FAKE  \n",
      "4  It's primary day in New York and front-runners...  REAL  \n"
     ]
    }
   ],
   "source": [
    "print(df.head())"
   ]
  },
  {
   "cell_type": "code",
   "execution_count": 12,
   "id": "64beba94",
   "metadata": {},
   "outputs": [
    {
     "name": "stdout",
     "output_type": "stream",
     "text": [
      "LOGISTIC REGRESSION\n",
      "              precision    recall  f1-score   support\n",
      "\n",
      "        FAKE       0.90      0.92      0.91       963\n",
      "        REAL       0.92      0.90      0.91       938\n",
      "\n",
      "    accuracy                           0.91      1901\n",
      "   macro avg       0.91      0.91      0.91      1901\n",
      "weighted avg       0.91      0.91      0.91      1901\n",
      "\n",
      "[[885  78]\n",
      " [ 95 843]]\n"
     ]
    }
   ],
   "source": [
    "# Initialize classifiers\n",
    "print(\"LOGISTIC REGRESSION\")\n",
    "LR = LogisticRegression()\n",
    "LR.fit(tfidf_train,y_train)\n",
    "pred_lr=LR.predict(tfidf_test)\n",
    "LR.score(tfidf_test, y_test)\n",
    "print(classification_report(y_test, pred_lr))\n",
    "print(confusion_matrix(y_test, pred_lr,labels=['FAKE','REAL']))"
   ]
  },
  {
   "cell_type": "code",
   "execution_count": 13,
   "id": "43c5495d",
   "metadata": {},
   "outputs": [
    {
     "name": "stdout",
     "output_type": "stream",
     "text": [
      "RANDOM FOREST CLASSIFIER\n",
      "              precision    recall  f1-score   support\n",
      "\n",
      "        FAKE       0.89      0.89      0.89       963\n",
      "        REAL       0.89      0.89      0.89       938\n",
      "\n",
      "    accuracy                           0.89      1901\n",
      "   macro avg       0.89      0.89      0.89      1901\n",
      "weighted avg       0.89      0.89      0.89      1901\n",
      "\n",
      "[[855 108]\n",
      " [104 834]]\n"
     ]
    }
   ],
   "source": [
    "print(\"RANDOM FOREST CLASSIFIER\")\n",
    "RFC = RandomForestClassifier(random_state=0)\n",
    "RFC.fit(tfidf_train, y_train)\n",
    "pred_rfc=RFC.predict(tfidf_test)\n",
    "RFC.score(tfidf_test, y_test)\n",
    "print(classification_report(y_test, pred_rfc))\n",
    "print(confusion_matrix(y_test, pred_rfc,labels=['FAKE','REAL']))"
   ]
  },
  {
   "cell_type": "code",
   "execution_count": 14,
   "id": "768a5d97",
   "metadata": {},
   "outputs": [
    {
     "name": "stdout",
     "output_type": "stream",
     "text": [
      "DECISION TREE CLASSIFIER\n",
      "              precision    recall  f1-score   support\n",
      "\n",
      "        FAKE       0.83      0.76      0.80       963\n",
      "        REAL       0.78      0.84      0.81       938\n",
      "\n",
      "    accuracy                           0.80      1901\n",
      "   macro avg       0.80      0.80      0.80      1901\n",
      "weighted avg       0.80      0.80      0.80      1901\n",
      "\n",
      "[[736 227]\n",
      " [150 788]]\n"
     ]
    }
   ],
   "source": [
    "print(\"DECISION TREE CLASSIFIER\")\n",
    "DT = DecisionTreeClassifier()\n",
    "DT.fit(tfidf_train, y_train)\n",
    "pred_dt=DT.predict(tfidf_test)\n",
    "DT.score(tfidf_test, y_test)\n",
    "print(classification_report(y_test, pred_dt))\n",
    "print(confusion_matrix(y_test, pred_dt,labels=['FAKE','REAL']))"
   ]
  },
  {
   "cell_type": "code",
   "execution_count": 10,
   "id": "22f337b4",
   "metadata": {},
   "outputs": [],
   "source": [
    "# saving vectorizer\n",
    "with open('tfid.pickle','wb') as f:\n",
    "    pickle.dump(tfidf_vectorizer,f)\n",
    "\n",
    "# saving model\n",
    "with open('model_fakenews.pickle','wb') as f:\n",
    "    pickle.dump(LR,f)"
   ]
  },
  {
   "cell_type": "code",
   "execution_count": null,
   "id": "7e276eb7",
   "metadata": {},
   "outputs": [],
   "source": []
  }
 ],
 "metadata": {
  "kernelspec": {
   "display_name": "Python 3 (ipykernel)",
   "language": "python",
   "name": "python3"
  },
  "language_info": {
   "codemirror_mode": {
    "name": "ipython",
    "version": 3
   },
   "file_extension": ".py",
   "mimetype": "text/x-python",
   "name": "python",
   "nbconvert_exporter": "python",
   "pygments_lexer": "ipython3",
   "version": "3.9.7"
  }
 },
 "nbformat": 4,
 "nbformat_minor": 5
}
